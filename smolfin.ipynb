{
 "metadata": {
  "name": "",
  "signature": "sha256:eec4a88b2ca84810df3a7e4405be32c72c39ecb0b3d00854a8445fd66c1ee172"
 },
 "nbformat": 3,
 "nbformat_minor": 0,
 "worksheets": [
  {
   "cells": [
    {
     "cell_type": "code",
     "collapsed": false,
     "input": [
      "%load_ext autoreload\n",
      "%autoreload 2"
     ],
     "language": "python",
     "metadata": {},
     "outputs": [
      {
       "output_type": "stream",
       "stream": "stdout",
       "text": [
        "The autoreload extension is already loaded. To reload it, use:\n",
        "  %reload_ext autoreload\n"
       ]
      }
     ],
     "prompt_number": 13
    },
    {
     "cell_type": "code",
     "collapsed": false,
     "input": [
      "import sys\n",
      "sys.path.append(\"/home/AD/pmke226/sources/smolfin/\")\n",
      "\n",
      "class empty:pass\n",
      "\n",
      "import testboundaries as tb\n",
      "import initMesh as iM\n",
      "from dolfin import Mesh\n",
      "\n",
      "root = \"/net/share/pmke226/data/smolfin_troponinc/tnc_isolated\"\n",
      "problem = empty()\n",
      "problem.fileMesh = root+\"_mesh.xml.gz\"\n",
      "problem.fileSubdomains= root+\"_subdomains.xml.gz\"\n",
      "problem.filePotential= None # root+\"_values.xml.gz\"\n",
      "iM.SetBoundaries(problem)\n",
      "tb.TestBoundaries(problem=problem)\n",
      "\n",
      "#results= smol.Run(problem,pvdFileName=root+\".pvd\")"
     ],
     "language": "python",
     "metadata": {},
     "outputs": [
      {
       "output_type": "stream",
       "stream": "stderr",
       "text": [
        "DEBUG:FFC:Reusing form from cache.\n"
       ]
      },
      {
       "output_type": "stream",
       "stream": "stderr",
       "text": [
        "DEBUG:FFC:Reusing form from cache.\n"
       ]
      },
      {
       "output_type": "stream",
       "stream": "stdout",
       "text": [
        "Running on kafka using dolfin version 1.5.0\n",
        "Active site: (552/59860)"
       ]
      },
      {
       "output_type": "stream",
       "stream": "stdout",
       "text": [
        "\n",
        "Bulk: (258/59860)"
       ]
      },
      {
       "output_type": "stream",
       "stream": "stdout",
       "text": [
        "\n",
        "Molecule: (30503/59860)"
       ]
      },
      {
       "output_type": "stream",
       "stream": "stdout",
       "text": [
        "\n"
       ]
      }
     ],
     "prompt_number": 1
    },
    {
     "cell_type": "code",
     "collapsed": false,
     "input": [
      "#results= smol.Run(problem,pvdFileName=root+\".pvd\")\n",
      "#Jp = grad(solutionVector) \n",
      "#boundary_flux_terms = assemble(dot(Jp, tetrahedron.n)*ds(subdomainMarker,domain=mesh))"
     ],
     "language": "python",
     "metadata": {},
     "outputs": []
    }
   ],
   "metadata": {}
  }
 ]
}