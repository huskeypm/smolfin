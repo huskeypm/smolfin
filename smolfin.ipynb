{
 "metadata": {
  "name": "",
  "signature": "sha256:a04c1228e0036ad589b9e50be4084aedc9a87714faec0d503473f660cdc82a0c"
 },
 "nbformat": 3,
 "nbformat_minor": 0,
 "worksheets": [
  {
   "cells": [
    {
     "cell_type": "markdown",
     "metadata": {},
     "source": [
      "## Smolfin notebook for demonstrating basic operation of Smoluchowski solver\n",
      "\n",
      "Actual data for validation is here (on UCSD):  /net/data/huskeypm/GiKe11a/GiKe11a/tnc_isolated \n",
      "\n",
      "Peter Kekenes-Huskey"
     ]
    },
    {
     "cell_type": "code",
     "collapsed": false,
     "input": [
      "%load_ext autoreload\n",
      "%autoreload 2\n",
      "import logging\n",
      "logging.getLogger('FFC').setLevel(logging.WARNING)"
     ],
     "language": "python",
     "metadata": {},
     "outputs": [
      {
       "output_type": "stream",
       "stream": "stdout",
       "text": [
        "The autoreload extension is already loaded. To reload it, use:\n",
        "  %reload_ext autoreload\n"
       ]
      }
     ],
     "prompt_number": 3
    },
    {
     "cell_type": "markdown",
     "metadata": {},
     "source": [
      "### Initializations"
     ]
    },
    {
     "cell_type": "markdown",
     "metadata": {},
     "source": [
      "#### Assumed here that you have a dolfin-compatible mesh. \n",
      "Latest instructions for mesh generation are posted with the cytosolic homogenization paper"
     ]
    },
    {
     "cell_type": "code",
     "collapsed": false,
     "input": [
      "import sys\n",
      "sys.path.append(\"/home/AD/pmke226/sources/smolfin/\")\n",
      "\n",
      "class empty:pass\n",
      "\n",
      "# define where mesh file is located and well as the potential\n",
      "base = \"/net/share/pmke226/data/test/\"\n",
      "root=base + \"tnc_isolated\"\n",
      "problem = empty()\n",
      "problem.root = root\n",
      "problem.fileMesh = root+\"_mesh.xml.gz\""
     ],
     "language": "python",
     "metadata": {},
     "outputs": [],
     "prompt_number": 4
    },
    {
     "cell_type": "markdown",
     "metadata": {},
     "source": [
      "#### Generate 'subdomains' that mark important regions of system \n",
      "You will need to specify in Cartesian coordinates where your active site is located, how large (radius) it is, and where the outer boundary of your mesh is located"
     ]
    },
    {
     "cell_type": "code",
     "collapsed": false,
     "input": [
      "import testboundaries as tb\n",
      "import initMesh as iM\n",
      "\n",
      "\n",
      "problem.fileSubdomains= root+\"_subdomains.xml.gz\"\n",
      "\n",
      "createBoundaries = True\n",
      "if createBoundaries:\n",
      "  # marks boundaries for active site, etc    \n",
      "  iM.SetBoundaries(problem,\n",
      "    activeSiteLoc = np.array([24, 8,-5]),\n",
      "    activeSiteR = 5,  # radius [A] of active site\n",
      "    outerR=200 # radius [A] of outer domain \n",
      "    )\n",
      "  tb.TestBoundaries(problem=problem)"
     ],
     "language": "python",
     "metadata": {},
     "outputs": [
      {
       "output_type": "stream",
       "stream": "stderr",
       "text": [
        "DEBUG:FFC:Reusing form from cache.\n"
       ]
      },
      {
       "output_type": "stream",
       "stream": "stderr",
       "text": [
        "DEBUG:FFC:Reusing form from cache.\n"
       ]
      },
      {
       "output_type": "stream",
       "stream": "stdout",
       "text": [
        "Running on kafka using dolfin version 1.5.0\n",
        "Active site: (552/59860)"
       ]
      },
      {
       "output_type": "stream",
       "stream": "stdout",
       "text": [
        "\n",
        "Bulk: (258/59860)"
       ]
      },
      {
       "output_type": "stream",
       "stream": "stdout",
       "text": [
        "\n",
        "Molecule: (30503/59860)"
       ]
      },
      {
       "output_type": "stream",
       "stream": "stdout",
       "text": [
        "\n"
       ]
      }
     ],
     "prompt_number": 5
    },
    {
     "cell_type": "markdown",
     "metadata": {},
     "source": [
      "#### Prepare electrostatic meshes\n",
      "\n",
      "Can be done from command line via\n",
      "<code>\n",
      "python ~/sources/smolfin/interpolateAPBS.py  -mesh tnc_isolated_mesh.xml.gz -p 3sl3_0.2A.dx -p 3sl3_0.5A.dx\n",
      "</code>"
     ]
    },
    {
     "cell_type": "code",
     "collapsed": false,
     "input": [
      "import interpolateAPBS\n",
      "\n",
      "createPMF=True\n",
      "if createPMF:\n",
      "  apbsfileNames=[\n",
      "    base+\"3sl3_0.5A.dx\",\n",
      "    base+\"3sl3_0.2A.dx\",\n",
      "  ]\n",
      "  interpolateAPBS.convertAllAPBS(problem,apbsfileNames,\n",
      "                               writePotentialOnly=True,clipValues=True)"
     ],
     "language": "python",
     "metadata": {},
     "outputs": [
      {
       "output_type": "stream",
       "stream": "stdout",
       "text": [
        "NOTE: Need to save mesh, then load 'interpolated', otherwise potential will disagree\n",
        "WARNING: Be sure to read lowest resolution mesh first, second lowest next, etc"
       ]
      },
      {
       "output_type": "stream",
       "stream": "stdout",
       "text": [
        "\n",
        "Reading APBS file /net/share/pmke226/data/test/3sl3_0.5A.dx\n",
        "Interpolated potential values [kT/e]: min (-2.095758e+01) max (1.922792e+01) "
       ]
      },
      {
       "output_type": "stream",
       "stream": "stdout",
       "text": [
        "\n",
        "Reading APBS file /net/share/pmke226/data/test/3sl3_0.2A.dx\n",
        "Interpolated potential values [kT/e]: min (-2.084665e+01) max (1.627368e+01) "
       ]
      },
      {
       "output_type": "stream",
       "stream": "stderr",
       "text": [
        "DEBUG:FFC:Reusing form from cache.\n"
       ]
      },
      {
       "output_type": "stream",
       "stream": "stdout",
       "text": [
        "\n",
        "Encountered 3 values with very small potential valus. Clipping to -1.188174\n",
        "Encountered 3 values with very high potential values. Clipping to 1.188174\n",
        "Final: Interpolated potential values [kT/e]: min (-1.188174e+00) max (1.188174e+00) \n"
       ]
      }
     ],
     "prompt_number": 6
    },
    {
     "cell_type": "markdown",
     "metadata": {},
     "source": [
      "#### Decide here whether to include electrostatic PMF in Smol solution"
     ]
    },
    {
     "cell_type": "code",
     "collapsed": false,
     "input": [
      "\n",
      "doElectro=True\n",
      "if doElectro:\n",
      "    problem.filePotential= root+\"_values.xml.gz\"\n",
      "else:\n",
      "    problem.filePotential= None      \n",
      "    "
     ],
     "language": "python",
     "metadata": {},
     "outputs": [],
     "prompt_number": 7
    },
    {
     "cell_type": "markdown",
     "metadata": {},
     "source": [
      "### Execution"
     ]
    },
    {
     "cell_type": "code",
     "collapsed": false,
     "input": [
      "import smol\n",
      "results= smol.Run(problem,pvdFileName=root+\".pvd\")"
     ],
     "language": "python",
     "metadata": {},
     "outputs": [
      {
       "output_type": "stream",
       "stream": "stderr",
       "text": [
        "DEBUG:FFC:Reusing form from cache.\n"
       ]
      },
      {
       "output_type": "stream",
       "stream": "stdout",
       "text": [
        "/net/share/pmke226/data/test/tnc_isolated_values.xml.gz\n",
        "Potential range: -2.376349 - 2.376349 "
       ]
      },
      {
       "output_type": "stream",
       "stream": "stderr",
       "text": [
        "DEBUG:FFC:Reusing form from cache.\n"
       ]
      },
      {
       "output_type": "stream",
       "stream": "stderr",
       "text": [
        "DEBUG:FFC:Reusing form from cache.\n"
       ]
      },
      {
       "output_type": "stream",
       "stream": "stderr",
       "text": [
        "DEBUG:FFC:Reusing form from cache.\n"
       ]
      },
      {
       "output_type": "stream",
       "stream": "stderr",
       "text": [
        "DEBUG:FFC:Reusing form from cache.\n"
       ]
      },
      {
       "output_type": "stream",
       "stream": "stdout",
       "text": [
        "\n",
        "Unprojected Solution range: 0.000000 - 1.000000 "
       ]
      },
      {
       "output_type": "stream",
       "stream": "stdout",
       "text": [
        "\n",
        "Projected solution range: 0.000000 - 52.102351 "
       ]
      },
      {
       "output_type": "stream",
       "stream": "stderr",
       "text": [
        "DEBUG:FFC:Reusing form from cache.\n"
       ]
      },
      {
       "output_type": "stream",
       "stream": "stdout",
       "text": [
        "\n",
        "Printing solution to /net/share/pmke226/data/test/tnc_isolated.pvd\n",
        "Subdomain has area of 78.612566 [A^2]"
       ]
      },
      {
       "output_type": "stream",
       "stream": "stderr",
       "text": [
        "DEBUG:FFC:Reusing form from cache.\n"
       ]
      },
      {
       "output_type": "stream",
       "stream": "stdout",
       "text": [
        "\n",
        "kon: 1.107901e+09 [1/Ms] 6.647405e+10 [1/M min]\n"
       ]
      }
     ],
     "prompt_number": 8
    },
    {
     "cell_type": "code",
     "collapsed": false,
     "input": [],
     "language": "python",
     "metadata": {},
     "outputs": [],
     "prompt_number": 8
    }
   ],
   "metadata": {}
  }
 ]
}