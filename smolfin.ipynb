{
 "metadata": {
  "name": "",
  "signature": "sha256:98ea2492376b6750f5f2031bfc23e403fdb5c5b2bcbd2b6aeb71e6a6ee3a42a1"
 },
 "nbformat": 3,
 "nbformat_minor": 0,
 "worksheets": [
  {
   "cells": [
    {
     "cell_type": "code",
     "collapsed": false,
     "input": [
      "%load_ext autoreload\n",
      "%autoreload 2\n",
      "import logging\n",
      "logging.getLogger('FFC').setLevel(logging.WARNING)"
     ],
     "language": "python",
     "metadata": {},
     "outputs": [
      {
       "output_type": "stream",
       "stream": "stdout",
       "text": [
        "The autoreload extension is already loaded. To reload it, use:\n",
        "  %reload_ext autoreload\n"
       ]
      }
     ],
     "prompt_number": 25
    },
    {
     "cell_type": "code",
     "collapsed": false,
     "input": [
      "import sys\n",
      "sys.path.append(\"/home/AD/pmke226/sources/smolfin/\")\n",
      "\n",
      "class empty:pass\n",
      "\n",
      "import testboundaries as tb\n",
      "import initMesh as iM\n",
      "from dolfin import Mesh\n",
      "\n",
      "root = \"/net/share/pmke226/data/smolfin_troponinc/tnc_isolated\"\n",
      "problem = empty()\n",
      "problem.fileMesh = root+\"_mesh.xml.gz\"\n",
      "problem.fileSubdomains= root+\"_subdomains.xml.gz\"\n",
      "problem.filePotential= None # root+\"_values.xml.gz\"\n",
      "iM.SetBoundaries(problem)\n",
      "tb.TestBoundaries(problem=problem)\n",
      "\n",
      "#results= smol.Run(problem,pvdFileName=root+\".pvd\")"
     ],
     "language": "python",
     "metadata": {},
     "outputs": [
      {
       "output_type": "stream",
       "stream": "stdout",
       "text": [
        "Active site: (552/59860)\n",
        "Bulk: (258/59860)"
       ]
      },
      {
       "output_type": "stream",
       "stream": "stdout",
       "text": [
        "\n",
        "Molecule: (30503/59860)"
       ]
      },
      {
       "output_type": "stream",
       "stream": "stdout",
       "text": [
        "\n"
       ]
      }
     ],
     "prompt_number": 31
    },
    {
     "cell_type": "code",
     "collapsed": false,
     "input": [
      "from dolfin import *\n",
      "mesh = problem.mesh\n",
      "V = FunctionSpace(mesh,\"CG\",1)\n",
      "u = TrialFunction(V)\n",
      "v = TestFunction(V)"
     ],
     "language": "python",
     "metadata": {},
     "outputs": [],
     "prompt_number": 32
    },
    {
     "cell_type": "code",
     "collapsed": false,
     "input": [
      "import smol\n",
      "parms = smol.parms\n",
      "subdomains =problem.subdomains\n",
      "bc0 = DirichletBC(V,Constant(parms.active_site_absorb),subdomains,parms.active_site_marker)\n",
      "bc1 = DirichletBC(V,Constant(parms.bulk_conc),subdomains,parms.outer_boundary_marker)\n",
      "problem.bcs = [bc0,bc1]"
     ],
     "language": "python",
     "metadata": {},
     "outputs": [],
     "prompt_number": 33
    },
    {
     "cell_type": "code",
     "collapsed": false,
     "input": [
      "form = inner(grad(u),grad(v))*dx\n",
      "F = lhs(form)\n",
      "L = rhs(form)\n",
      "\n",
      "\n",
      "x=Function(V)\n",
      "lvproblem = LinearVariationalProblem(F,L, x, bcs=problem.bcs)\n",
      "solver = LinearVariationalSolver(lvproblem)\n",
      "solver.parameters[\"linear_solver\"] = \"gmres\"\n",
      "solver.parameters[\"preconditioner\"] = \"ilu\"\n",
      "solver.solve()"
     ],
     "language": "python",
     "metadata": {},
     "outputs": [],
     "prompt_number": 34
    },
    {
     "cell_type": "code",
     "collapsed": false,
     "input": [
      "File(\"soln.pvd\")<<x"
     ],
     "language": "python",
     "metadata": {},
     "outputs": [],
     "prompt_number": 39
    },
    {
     "cell_type": "code",
     "collapsed": false,
     "input": [
      "#results= smol.Run(problem,pvdFileName=root+\".pvd\")\n",
      "Jp = grad(x) \n",
      "#boundary_flux_terms = assemble(dot(Jp, tetrahedron.n)*ds(subdomainMarker,domain=mesh))"
     ],
     "language": "python",
     "metadata": {},
     "outputs": [],
     "prompt_number": 36
    },
    {
     "cell_type": "code",
     "collapsed": false,
     "input": [
      "# Integration over surface \n",
      "\n",
      "ds = ds[problem.subdomains]\n",
      "print assemble(Constant(1.0)*ds(parms.active_site_marker, domain=problem.mesh))\n",
      "print assemble(Constant(1.0)*ds(parms.outer_boundary_marker, domain=problem.mesh))\n",
      "print assemble(Constant(1.0)*ds(parms.molecular_boundary_marker, domain=problem.mesh))"
     ],
     "language": "python",
     "metadata": {},
     "outputs": [
      {
       "output_type": "stream",
       "stream": "stdout",
       "text": [
        "78.6125664863\n",
        "3424220.40163\n",
        "4692.11446894"
       ]
      },
      {
       "output_type": "stream",
       "stream": "stdout",
       "text": [
        "\n"
       ]
      }
     ],
     "prompt_number": 54
    },
    {
     "cell_type": "code",
     "collapsed": false,
     "input": [
      "n = FacetNormal(mesh)\n",
      "assemble(dot(Jp,n)*ds(parms.active_site_marker,domain=problem.mesh))"
     ],
     "language": "python",
     "metadata": {},
     "outputs": [
      {
       "metadata": {},
       "output_type": "pyout",
       "prompt_number": 67,
       "text": [
        "-23.187568127650987"
       ]
      }
     ],
     "prompt_number": 67
    },
    {
     "cell_type": "code",
     "collapsed": false,
     "input": [
      "results = empty()\n",
      "results.up = x\n",
      "pmf = Function(V)\n",
      "pmf.vector()[:]=1.\n",
      "problem.pmf = pmf"
     ],
     "language": "python",
     "metadata": {},
     "outputs": [],
     "prompt_number": 65
    },
    {
     "cell_type": "code",
     "collapsed": false,
     "input": [
      "assemble(dot(Jp,n)*ds(parms.outer_boundary_marker))"
     ],
     "language": "python",
     "metadata": {},
     "outputs": [
      {
       "metadata": {},
       "output_type": "pyout",
       "prompt_number": 56,
       "text": [
        "49.279595303117496"
       ]
      }
     ],
     "prompt_number": 56
    },
    {
     "cell_type": "code",
     "collapsed": false,
     "input": [
      "assemble(dot(Jp,n)*ds(parms.molecular_boundary_marker))"
     ],
     "language": "python",
     "metadata": {},
     "outputs": [
      {
       "metadata": {},
       "output_type": "pyout",
       "prompt_number": 57,
       "text": [
        "-1.9078849340716804"
       ]
      }
     ],
     "prompt_number": 57
    },
    {
     "cell_type": "code",
     "collapsed": false,
     "input": [
      "assemble(x*dx)"
     ],
     "language": "python",
     "metadata": {},
     "outputs": [
      {
       "metadata": {},
       "output_type": "pyout",
       "prompt_number": 58,
       "text": [
        "591635551.1448317"
       ]
      }
     ],
     "prompt_number": 58
    },
    {
     "cell_type": "code",
     "collapsed": false,
     "input": [
      "smol.ComputeKon(problem,results)"
     ],
     "language": "python",
     "metadata": {},
     "outputs": [
      {
       "output_type": "stream",
       "stream": "stdout",
       "text": [
        "Running on kafka using dolfin version 1.5.0\n",
        "Subdomain has area of 78.612566 [A^2]\n",
        "kon: 1.089183e+09 [1/Ms] 6.535097e+10 [1/M min]"
       ]
      },
      {
       "output_type": "stream",
       "stream": "stdout",
       "text": [
        "\n"
       ]
      },
      {
       "metadata": {},
       "output_type": "pyout",
       "prompt_number": 70,
       "text": [
        "1089182767.1837144"
       ]
      }
     ],
     "prompt_number": 70
    },
    {
     "cell_type": "code",
     "collapsed": false,
     "input": [],
     "language": "python",
     "metadata": {},
     "outputs": []
    }
   ],
   "metadata": {}
  }
 ]
}